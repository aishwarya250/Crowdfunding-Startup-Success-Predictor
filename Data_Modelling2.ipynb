{
 "cells": [
  {
   "cell_type": "markdown",
   "metadata": {},
   "source": [
    "## Data Modelling notebook"
   ]
  },
  {
   "cell_type": "code",
   "execution_count": 39,
   "metadata": {},
   "outputs": [],
   "source": [
    "# Data and Numbers\n",
    "import pandas as pd\n",
    "import numpy as np\n",
    "import datetime as dt\n",
    "\n",
    "# Modeling\n",
    "from sklearn.neighbors import KNeighborsClassifier\n",
    "from sklearn.linear_model import LogisticRegression, LogisticRegressionCV\n",
    "from sklearn.model_selection import train_test_split, StratifiedKFold, GridSearchCV\n",
    "from sklearn.metrics import precision_score, recall_score,\\\n",
    "precision_recall_curve,f1_score, fbeta_score,\\\n",
    "accuracy_score, confusion_matrix, roc_auc_score, roc_curve\n",
    "from sklearn.ensemble import BaggingClassifier, RandomForestClassifier\n",
    "from sklearn import svm\n",
    "from sklearn.svm import LinearSVC, SVC\n",
    "from sklearn.preprocessing import StandardScaler\n",
    "from six import StringIO\n",
    "#from sklearn.externals.six import StringIO\n",
    "from xgboost import XGBClassifier\n",
    "\n",
    "# Saving\n",
    "import pickle"
   ]
  },
  {
   "cell_type": "code",
   "execution_count": 40,
   "metadata": {},
   "outputs": [],
   "source": [
    "#pip install six"
   ]
  },
  {
   "cell_type": "code",
   "execution_count": null,
   "metadata": {},
   "outputs": [],
   "source": []
  },
  {
   "cell_type": "markdown",
   "metadata": {},
   "source": [
    "### Reading the cleaned CSV"
   ]
  },
  {
   "cell_type": "code",
   "execution_count": 41,
   "metadata": {},
   "outputs": [],
   "source": [
    "final_df = pd.read_csv('final.csv')"
   ]
  },
  {
   "cell_type": "markdown",
   "metadata": {},
   "source": [
    "The cleaned CSV file contain the following columns,\n",
    "\n",
    "- cat_new - Contains the categories of the industry ('biotech', 'healthcare', 'medical devices', 'medical/pharma')\n",
    "- funding_total_usd - Total funding (USD)\n",
    "- funding_rounds - Total funding rounds\t\n",
    "- homepage_url_new - If the startup contains URL or not\t\n",
    "- Region - In which region the startup is, only USA ('Midwest', 'Northeast', 'South', 'West')\n",
    "- investor_name - Count of the investors\n",
    "- avg_raise_usd - Average raised USD\n",
    "- avg_time_bw_rounds_float - Average time between two rounds (more than two rounds)\n",
    "- time_bw_first_rounds_float - Time between the first round\n",
    "- status_new - The target column, if the startup succeded or not"
   ]
  },
  {
   "cell_type": "code",
   "execution_count": 42,
   "metadata": {},
   "outputs": [
    {
     "data": {
      "text/html": [
       "<div>\n",
       "<style scoped>\n",
       "    .dataframe tbody tr th:only-of-type {\n",
       "        vertical-align: middle;\n",
       "    }\n",
       "\n",
       "    .dataframe tbody tr th {\n",
       "        vertical-align: top;\n",
       "    }\n",
       "\n",
       "    .dataframe thead th {\n",
       "        text-align: right;\n",
       "    }\n",
       "</style>\n",
       "<table border=\"1\" class=\"dataframe\">\n",
       "  <thead>\n",
       "    <tr style=\"text-align: right;\">\n",
       "      <th></th>\n",
       "      <th>Unnamed: 0</th>\n",
       "      <th>company_name</th>\n",
       "      <th>category_list</th>\n",
       "      <th>funding_total_usd</th>\n",
       "      <th>status</th>\n",
       "      <th>country_code</th>\n",
       "      <th>state_code</th>\n",
       "      <th>funding_rounds</th>\n",
       "      <th>first_funding_at</th>\n",
       "      <th>last_funding_at</th>\n",
       "      <th>homepage_url_new</th>\n",
       "      <th>time_bw_first_rounds</th>\n",
       "      <th>avg_time_bw_rounds</th>\n",
       "      <th>avg_raised_usd</th>\n",
       "      <th>avg_time_bw_rounds_float</th>\n",
       "      <th>time_bw_first_rounds_float</th>\n",
       "      <th>status_new</th>\n",
       "      <th>investor_count</th>\n",
       "      <th>cat_new</th>\n",
       "      <th>Region</th>\n",
       "    </tr>\n",
       "  </thead>\n",
       "  <tbody>\n",
       "    <tr>\n",
       "      <th>0</th>\n",
       "      <td>0</td>\n",
       "      <td>1-800-DENTIST</td>\n",
       "      <td>health and wellness</td>\n",
       "      <td>100000.0</td>\n",
       "      <td>operating</td>\n",
       "      <td>USA</td>\n",
       "      <td>CA</td>\n",
       "      <td>1</td>\n",
       "      <td>2010-08-19</td>\n",
       "      <td>2010-08-19</td>\n",
       "      <td>1</td>\n",
       "      <td>0 days 00:00:00.000000000</td>\n",
       "      <td>NaN</td>\n",
       "      <td>21732739.24</td>\n",
       "      <td>0.0</td>\n",
       "      <td>0</td>\n",
       "      <td>0</td>\n",
       "      <td>2.0</td>\n",
       "      <td>healthcare</td>\n",
       "      <td>West</td>\n",
       "    </tr>\n",
       "    <tr>\n",
       "      <th>1</th>\n",
       "      <td>1</td>\n",
       "      <td>1-800-DOCTORS</td>\n",
       "      <td>health and wellness</td>\n",
       "      <td>1750000.0</td>\n",
       "      <td>operating</td>\n",
       "      <td>USA</td>\n",
       "      <td>NJ</td>\n",
       "      <td>1</td>\n",
       "      <td>2011-03-02</td>\n",
       "      <td>2011-03-02</td>\n",
       "      <td>1</td>\n",
       "      <td>0 days 00:00:00.000000000</td>\n",
       "      <td>NaN</td>\n",
       "      <td>1750000.00</td>\n",
       "      <td>0.0</td>\n",
       "      <td>0</td>\n",
       "      <td>0</td>\n",
       "      <td>1.0</td>\n",
       "      <td>healthcare</td>\n",
       "      <td>Northeast</td>\n",
       "    </tr>\n",
       "    <tr>\n",
       "      <th>2</th>\n",
       "      <td>2</td>\n",
       "      <td>Redox</td>\n",
       "      <td>health care|health care information technology...</td>\n",
       "      <td>4000000.0</td>\n",
       "      <td>operating</td>\n",
       "      <td>USA</td>\n",
       "      <td>WI</td>\n",
       "      <td>2</td>\n",
       "      <td>2014-11-26</td>\n",
       "      <td>2015-10-20</td>\n",
       "      <td>1</td>\n",
       "      <td>328 days 00:00:00.000000000</td>\n",
       "      <td>328 days 00:00:00.000000000</td>\n",
       "      <td>2000000.00</td>\n",
       "      <td>328.0</td>\n",
       "      <td>328</td>\n",
       "      <td>1</td>\n",
       "      <td>6.0</td>\n",
       "      <td>healthcare</td>\n",
       "      <td>Midwest</td>\n",
       "    </tr>\n",
       "    <tr>\n",
       "      <th>3</th>\n",
       "      <td>3</td>\n",
       "      <td>10X Genomics</td>\n",
       "      <td>biotechnology|technology</td>\n",
       "      <td>55000000.0</td>\n",
       "      <td>operating</td>\n",
       "      <td>USA</td>\n",
       "      <td>CA</td>\n",
       "      <td>1</td>\n",
       "      <td>2015-01-12</td>\n",
       "      <td>2015-01-12</td>\n",
       "      <td>1</td>\n",
       "      <td>0 days 00:00:00.000000000</td>\n",
       "      <td>NaN</td>\n",
       "      <td>55000000.00</td>\n",
       "      <td>0.0</td>\n",
       "      <td>0</td>\n",
       "      <td>1</td>\n",
       "      <td>3.0</td>\n",
       "      <td>biotech</td>\n",
       "      <td>West</td>\n",
       "    </tr>\n",
       "    <tr>\n",
       "      <th>4</th>\n",
       "      <td>4</td>\n",
       "      <td>10X Technologies</td>\n",
       "      <td>biotechnology</td>\n",
       "      <td>3550000.0</td>\n",
       "      <td>operating</td>\n",
       "      <td>USA</td>\n",
       "      <td>CA</td>\n",
       "      <td>2</td>\n",
       "      <td>2012-11-07</td>\n",
       "      <td>2015-01-12</td>\n",
       "      <td>1</td>\n",
       "      <td>796 days 00:00:00.000000000</td>\n",
       "      <td>796 days 00:00:00.000000000</td>\n",
       "      <td>1775000.00</td>\n",
       "      <td>796.0</td>\n",
       "      <td>796</td>\n",
       "      <td>1</td>\n",
       "      <td>1.0</td>\n",
       "      <td>biotech</td>\n",
       "      <td>West</td>\n",
       "    </tr>\n",
       "  </tbody>\n",
       "</table>\n",
       "</div>"
      ],
      "text/plain": [
       "   Unnamed: 0      company_name  \\\n",
       "0           0     1-800-DENTIST   \n",
       "1           1     1-800-DOCTORS   \n",
       "2           2             Redox   \n",
       "3           3      10X Genomics   \n",
       "4           4  10X Technologies   \n",
       "\n",
       "                                       category_list  funding_total_usd  \\\n",
       "0                                health and wellness           100000.0   \n",
       "1                                health and wellness          1750000.0   \n",
       "2  health care|health care information technology...          4000000.0   \n",
       "3                           biotechnology|technology         55000000.0   \n",
       "4                                      biotechnology          3550000.0   \n",
       "\n",
       "      status country_code state_code  funding_rounds first_funding_at  \\\n",
       "0  operating          USA         CA               1       2010-08-19   \n",
       "1  operating          USA         NJ               1       2011-03-02   \n",
       "2  operating          USA         WI               2       2014-11-26   \n",
       "3  operating          USA         CA               1       2015-01-12   \n",
       "4  operating          USA         CA               2       2012-11-07   \n",
       "\n",
       "  last_funding_at  homepage_url_new         time_bw_first_rounds  \\\n",
       "0      2010-08-19                 1    0 days 00:00:00.000000000   \n",
       "1      2011-03-02                 1    0 days 00:00:00.000000000   \n",
       "2      2015-10-20                 1  328 days 00:00:00.000000000   \n",
       "3      2015-01-12                 1    0 days 00:00:00.000000000   \n",
       "4      2015-01-12                 1  796 days 00:00:00.000000000   \n",
       "\n",
       "            avg_time_bw_rounds  avg_raised_usd  avg_time_bw_rounds_float  \\\n",
       "0                          NaN     21732739.24                       0.0   \n",
       "1                          NaN      1750000.00                       0.0   \n",
       "2  328 days 00:00:00.000000000      2000000.00                     328.0   \n",
       "3                          NaN     55000000.00                       0.0   \n",
       "4  796 days 00:00:00.000000000      1775000.00                     796.0   \n",
       "\n",
       "   time_bw_first_rounds_float  status_new  investor_count     cat_new  \\\n",
       "0                           0           0             2.0  healthcare   \n",
       "1                           0           0             1.0  healthcare   \n",
       "2                         328           1             6.0  healthcare   \n",
       "3                           0           1             3.0     biotech   \n",
       "4                         796           1             1.0     biotech   \n",
       "\n",
       "      Region  \n",
       "0       West  \n",
       "1  Northeast  \n",
       "2    Midwest  \n",
       "3       West  \n",
       "4       West  "
      ]
     },
     "execution_count": 42,
     "metadata": {},
     "output_type": "execute_result"
    }
   ],
   "source": [
    "final_df.head()"
   ]
  },
  {
   "cell_type": "markdown",
   "metadata": {},
   "source": [
    "Label encoding the categorical columns, cat_new column-which has categories of industries and Region columns contain the region where the startup is."
   ]
  },
  {
   "cell_type": "code",
   "execution_count": 43,
   "metadata": {},
   "outputs": [],
   "source": [
    "from sklearn import preprocessing\n",
    "le = preprocessing.LabelEncoder()"
   ]
  },
  {
   "cell_type": "code",
   "execution_count": 44,
   "metadata": {},
   "outputs": [],
   "source": [
    "final_df['cat'] = le.fit_transform(final_df['cat_new'])"
   ]
  },
  {
   "cell_type": "code",
   "execution_count": 45,
   "metadata": {},
   "outputs": [
    {
     "data": {
      "text/plain": [
       "['biotech', 'healthcare', 'medical devices', 'medical/pharma']"
      ]
     },
     "execution_count": 45,
     "metadata": {},
     "output_type": "execute_result"
    }
   ],
   "source": [
    "list(le.classes_)"
   ]
  },
  {
   "cell_type": "code",
   "execution_count": 46,
   "metadata": {},
   "outputs": [],
   "source": [
    "final_df['region'] = le.fit_transform(final_df['Region'])"
   ]
  },
  {
   "cell_type": "code",
   "execution_count": 47,
   "metadata": {},
   "outputs": [
    {
     "data": {
      "text/plain": [
       "['Midwest', 'Northeast', 'South', 'West']"
      ]
     },
     "execution_count": 47,
     "metadata": {},
     "output_type": "execute_result"
    }
   ],
   "source": [
    "list(le.classes_)"
   ]
  },
  {
   "cell_type": "code",
   "execution_count": 48,
   "metadata": {},
   "outputs": [],
   "source": [
    "# final_df.drop(['cat_new','Region'],axis = 1, inplace=True)"
   ]
  },
  {
   "cell_type": "code",
   "execution_count": 49,
   "metadata": {},
   "outputs": [
    {
     "data": {
      "text/plain": [
       "Index(['Unnamed: 0', 'company_name', 'category_list', 'funding_total_usd',\n",
       "       'status', 'country_code', 'state_code', 'funding_rounds',\n",
       "       'first_funding_at', 'last_funding_at', 'homepage_url_new',\n",
       "       'time_bw_first_rounds', 'avg_time_bw_rounds', 'avg_raised_usd',\n",
       "       'avg_time_bw_rounds_float', 'time_bw_first_rounds_float', 'status_new',\n",
       "       'investor_count', 'cat_new', 'Region', 'cat', 'region'],\n",
       "      dtype='object')"
      ]
     },
     "execution_count": 49,
     "metadata": {},
     "output_type": "execute_result"
    }
   ],
   "source": [
    "final_df.columns"
   ]
  },
  {
   "cell_type": "code",
   "execution_count": 50,
   "metadata": {},
   "outputs": [
    {
     "data": {
      "text/html": [
       "<div>\n",
       "<style scoped>\n",
       "    .dataframe tbody tr th:only-of-type {\n",
       "        vertical-align: middle;\n",
       "    }\n",
       "\n",
       "    .dataframe tbody tr th {\n",
       "        vertical-align: top;\n",
       "    }\n",
       "\n",
       "    .dataframe thead th {\n",
       "        text-align: right;\n",
       "    }\n",
       "</style>\n",
       "<table border=\"1\" class=\"dataframe\">\n",
       "  <thead>\n",
       "    <tr style=\"text-align: right;\">\n",
       "      <th></th>\n",
       "      <th>Unnamed: 0</th>\n",
       "      <th>company_name</th>\n",
       "      <th>category_list</th>\n",
       "      <th>funding_total_usd</th>\n",
       "      <th>status</th>\n",
       "      <th>country_code</th>\n",
       "      <th>state_code</th>\n",
       "      <th>funding_rounds</th>\n",
       "      <th>first_funding_at</th>\n",
       "      <th>last_funding_at</th>\n",
       "      <th>...</th>\n",
       "      <th>avg_time_bw_rounds</th>\n",
       "      <th>avg_raised_usd</th>\n",
       "      <th>avg_time_bw_rounds_float</th>\n",
       "      <th>time_bw_first_rounds_float</th>\n",
       "      <th>status_new</th>\n",
       "      <th>investor_count</th>\n",
       "      <th>cat_new</th>\n",
       "      <th>Region</th>\n",
       "      <th>cat</th>\n",
       "      <th>region</th>\n",
       "    </tr>\n",
       "  </thead>\n",
       "  <tbody>\n",
       "    <tr>\n",
       "      <th>10</th>\n",
       "      <td>10</td>\n",
       "      <td>Babyscripts</td>\n",
       "      <td>health and wellness|mobile health</td>\n",
       "      <td>2100000.0</td>\n",
       "      <td>operating</td>\n",
       "      <td>USA</td>\n",
       "      <td>DC</td>\n",
       "      <td>3</td>\n",
       "      <td>2013-03-11</td>\n",
       "      <td>2015-04-10</td>\n",
       "      <td>...</td>\n",
       "      <td>380 days 00:00:00.000000000</td>\n",
       "      <td>7.000000e+05</td>\n",
       "      <td>380.0</td>\n",
       "      <td>287</td>\n",
       "      <td>1</td>\n",
       "      <td>4.0</td>\n",
       "      <td>healthcare</td>\n",
       "      <td>South</td>\n",
       "      <td>1</td>\n",
       "      <td>2</td>\n",
       "    </tr>\n",
       "    <tr>\n",
       "      <th>12</th>\n",
       "      <td>12</td>\n",
       "      <td>20/20 Gene Systems Inc.</td>\n",
       "      <td>biotechnology|health diagnostics</td>\n",
       "      <td>4345427.0</td>\n",
       "      <td>operating</td>\n",
       "      <td>USA</td>\n",
       "      <td>MD</td>\n",
       "      <td>3</td>\n",
       "      <td>2012-09-25</td>\n",
       "      <td>2015-10-30</td>\n",
       "      <td>...</td>\n",
       "      <td>565 days 00:00:00.000000000</td>\n",
       "      <td>1.448476e+06</td>\n",
       "      <td>565.0</td>\n",
       "      <td>1093</td>\n",
       "      <td>1</td>\n",
       "      <td>1.0</td>\n",
       "      <td>healthcare</td>\n",
       "      <td>South</td>\n",
       "      <td>1</td>\n",
       "      <td>2</td>\n",
       "    </tr>\n",
       "    <tr>\n",
       "      <th>13</th>\n",
       "      <td>13</td>\n",
       "      <td>21st Century Oncology</td>\n",
       "      <td>health and wellness</td>\n",
       "      <td>325000000.0</td>\n",
       "      <td>operating</td>\n",
       "      <td>USA</td>\n",
       "      <td>FL</td>\n",
       "      <td>1</td>\n",
       "      <td>2014-09-26</td>\n",
       "      <td>2014-09-26</td>\n",
       "      <td>...</td>\n",
       "      <td>NaN</td>\n",
       "      <td>3.250000e+08</td>\n",
       "      <td>0.0</td>\n",
       "      <td>0</td>\n",
       "      <td>1</td>\n",
       "      <td>1.0</td>\n",
       "      <td>healthcare</td>\n",
       "      <td>South</td>\n",
       "      <td>1</td>\n",
       "      <td>2</td>\n",
       "    </tr>\n",
       "    <tr>\n",
       "      <th>19</th>\n",
       "      <td>19</td>\n",
       "      <td>360imaging</td>\n",
       "      <td>biotechnology|dental</td>\n",
       "      <td>1000000.0</td>\n",
       "      <td>operating</td>\n",
       "      <td>USA</td>\n",
       "      <td>GA</td>\n",
       "      <td>2</td>\n",
       "      <td>2011-11-01</td>\n",
       "      <td>2013-01-01</td>\n",
       "      <td>...</td>\n",
       "      <td>427 days 00:00:00.000000000</td>\n",
       "      <td>5.000000e+05</td>\n",
       "      <td>427.0</td>\n",
       "      <td>427</td>\n",
       "      <td>0</td>\n",
       "      <td>1.0</td>\n",
       "      <td>biotech</td>\n",
       "      <td>South</td>\n",
       "      <td>0</td>\n",
       "      <td>2</td>\n",
       "    </tr>\n",
       "    <tr>\n",
       "      <th>22</th>\n",
       "      <td>22</td>\n",
       "      <td>3D Operations, Inc.</td>\n",
       "      <td>3d printing|health and wellness|health care</td>\n",
       "      <td>7500.0</td>\n",
       "      <td>operating</td>\n",
       "      <td>USA</td>\n",
       "      <td>TN</td>\n",
       "      <td>1</td>\n",
       "      <td>2014-05-15</td>\n",
       "      <td>2014-05-15</td>\n",
       "      <td>...</td>\n",
       "      <td>NaN</td>\n",
       "      <td>7.500000e+03</td>\n",
       "      <td>0.0</td>\n",
       "      <td>0</td>\n",
       "      <td>1</td>\n",
       "      <td>1.0</td>\n",
       "      <td>healthcare</td>\n",
       "      <td>South</td>\n",
       "      <td>1</td>\n",
       "      <td>2</td>\n",
       "    </tr>\n",
       "    <tr>\n",
       "      <th>...</th>\n",
       "      <td>...</td>\n",
       "      <td>...</td>\n",
       "      <td>...</td>\n",
       "      <td>...</td>\n",
       "      <td>...</td>\n",
       "      <td>...</td>\n",
       "      <td>...</td>\n",
       "      <td>...</td>\n",
       "      <td>...</td>\n",
       "      <td>...</td>\n",
       "      <td>...</td>\n",
       "      <td>...</td>\n",
       "      <td>...</td>\n",
       "      <td>...</td>\n",
       "      <td>...</td>\n",
       "      <td>...</td>\n",
       "      <td>...</td>\n",
       "      <td>...</td>\n",
       "      <td>...</td>\n",
       "      <td>...</td>\n",
       "      <td>...</td>\n",
       "    </tr>\n",
       "    <tr>\n",
       "      <th>6945</th>\n",
       "      <td>6945</td>\n",
       "      <td>ZS Pharma</td>\n",
       "      <td>biotechnology</td>\n",
       "      <td>122987972.0</td>\n",
       "      <td>acquired</td>\n",
       "      <td>USA</td>\n",
       "      <td>TX</td>\n",
       "      <td>5</td>\n",
       "      <td>2010-12-14</td>\n",
       "      <td>2014-07-18</td>\n",
       "      <td>...</td>\n",
       "      <td>328 days 00:00:00.000000000</td>\n",
       "      <td>2.459759e+07</td>\n",
       "      <td>328.0</td>\n",
       "      <td>6</td>\n",
       "      <td>1</td>\n",
       "      <td>10.0</td>\n",
       "      <td>biotech</td>\n",
       "      <td>South</td>\n",
       "      <td>0</td>\n",
       "      <td>2</td>\n",
       "    </tr>\n",
       "    <tr>\n",
       "      <th>6948</th>\n",
       "      <td>6948</td>\n",
       "      <td>zumatek</td>\n",
       "      <td>biotechnology</td>\n",
       "      <td>150000.0</td>\n",
       "      <td>operating</td>\n",
       "      <td>USA</td>\n",
       "      <td>NC</td>\n",
       "      <td>1</td>\n",
       "      <td>2010-11-23</td>\n",
       "      <td>2010-11-23</td>\n",
       "      <td>...</td>\n",
       "      <td>NaN</td>\n",
       "      <td>1.500000e+05</td>\n",
       "      <td>0.0</td>\n",
       "      <td>0</td>\n",
       "      <td>0</td>\n",
       "      <td>1.0</td>\n",
       "      <td>biotech</td>\n",
       "      <td>South</td>\n",
       "      <td>0</td>\n",
       "      <td>2</td>\n",
       "    </tr>\n",
       "    <tr>\n",
       "      <th>6949</th>\n",
       "      <td>6949</td>\n",
       "      <td>Zumba Fitness</td>\n",
       "      <td>health and wellness</td>\n",
       "      <td>100000.0</td>\n",
       "      <td>operating</td>\n",
       "      <td>USA</td>\n",
       "      <td>FL</td>\n",
       "      <td>1</td>\n",
       "      <td>2012-03-08</td>\n",
       "      <td>2012-03-08</td>\n",
       "      <td>...</td>\n",
       "      <td>NaN</td>\n",
       "      <td>2.173274e+07</td>\n",
       "      <td>0.0</td>\n",
       "      <td>0</td>\n",
       "      <td>0</td>\n",
       "      <td>2.0</td>\n",
       "      <td>healthcare</td>\n",
       "      <td>South</td>\n",
       "      <td>1</td>\n",
       "      <td>2</td>\n",
       "    </tr>\n",
       "    <tr>\n",
       "      <th>6954</th>\n",
       "      <td>6954</td>\n",
       "      <td>Zymetis</td>\n",
       "      <td>biotechnology</td>\n",
       "      <td>2257464.0</td>\n",
       "      <td>closed</td>\n",
       "      <td>USA</td>\n",
       "      <td>MD</td>\n",
       "      <td>3</td>\n",
       "      <td>2007-01-01</td>\n",
       "      <td>2010-01-31</td>\n",
       "      <td>...</td>\n",
       "      <td>563 days 00:00:00.000000000</td>\n",
       "      <td>1.128732e+06</td>\n",
       "      <td>563.0</td>\n",
       "      <td>1106</td>\n",
       "      <td>0</td>\n",
       "      <td>2.0</td>\n",
       "      <td>biotech</td>\n",
       "      <td>South</td>\n",
       "      <td>0</td>\n",
       "      <td>2</td>\n",
       "    </tr>\n",
       "    <tr>\n",
       "      <th>6956</th>\n",
       "      <td>6956</td>\n",
       "      <td>Zyngenia</td>\n",
       "      <td>biotechnology</td>\n",
       "      <td>25000000.0</td>\n",
       "      <td>operating</td>\n",
       "      <td>USA</td>\n",
       "      <td>MD</td>\n",
       "      <td>1</td>\n",
       "      <td>2010-09-09</td>\n",
       "      <td>2010-09-09</td>\n",
       "      <td>...</td>\n",
       "      <td>NaN</td>\n",
       "      <td>2.500000e+07</td>\n",
       "      <td>0.0</td>\n",
       "      <td>0</td>\n",
       "      <td>0</td>\n",
       "      <td>1.0</td>\n",
       "      <td>biotech</td>\n",
       "      <td>South</td>\n",
       "      <td>0</td>\n",
       "      <td>2</td>\n",
       "    </tr>\n",
       "  </tbody>\n",
       "</table>\n",
       "<p>1663 rows × 22 columns</p>\n",
       "</div>"
      ],
      "text/plain": [
       "      Unnamed: 0             company_name  \\\n",
       "10            10              Babyscripts   \n",
       "12            12  20/20 Gene Systems Inc.   \n",
       "13            13    21st Century Oncology   \n",
       "19            19               360imaging   \n",
       "22            22      3D Operations, Inc.   \n",
       "...          ...                      ...   \n",
       "6945        6945                ZS Pharma   \n",
       "6948        6948                  zumatek   \n",
       "6949        6949            Zumba Fitness   \n",
       "6954        6954                  Zymetis   \n",
       "6956        6956                 Zyngenia   \n",
       "\n",
       "                                    category_list  funding_total_usd  \\\n",
       "10              health and wellness|mobile health          2100000.0   \n",
       "12               biotechnology|health diagnostics          4345427.0   \n",
       "13                            health and wellness        325000000.0   \n",
       "19                           biotechnology|dental          1000000.0   \n",
       "22    3d printing|health and wellness|health care             7500.0   \n",
       "...                                           ...                ...   \n",
       "6945                                biotechnology        122987972.0   \n",
       "6948                                biotechnology           150000.0   \n",
       "6949                          health and wellness           100000.0   \n",
       "6954                                biotechnology          2257464.0   \n",
       "6956                                biotechnology         25000000.0   \n",
       "\n",
       "         status country_code state_code  funding_rounds first_funding_at  \\\n",
       "10    operating          USA         DC               3       2013-03-11   \n",
       "12    operating          USA         MD               3       2012-09-25   \n",
       "13    operating          USA         FL               1       2014-09-26   \n",
       "19    operating          USA         GA               2       2011-11-01   \n",
       "22    operating          USA         TN               1       2014-05-15   \n",
       "...         ...          ...        ...             ...              ...   \n",
       "6945   acquired          USA         TX               5       2010-12-14   \n",
       "6948  operating          USA         NC               1       2010-11-23   \n",
       "6949  operating          USA         FL               1       2012-03-08   \n",
       "6954     closed          USA         MD               3       2007-01-01   \n",
       "6956  operating          USA         MD               1       2010-09-09   \n",
       "\n",
       "     last_funding_at  ...           avg_time_bw_rounds avg_raised_usd  \\\n",
       "10        2015-04-10  ...  380 days 00:00:00.000000000   7.000000e+05   \n",
       "12        2015-10-30  ...  565 days 00:00:00.000000000   1.448476e+06   \n",
       "13        2014-09-26  ...                          NaN   3.250000e+08   \n",
       "19        2013-01-01  ...  427 days 00:00:00.000000000   5.000000e+05   \n",
       "22        2014-05-15  ...                          NaN   7.500000e+03   \n",
       "...              ...  ...                          ...            ...   \n",
       "6945      2014-07-18  ...  328 days 00:00:00.000000000   2.459759e+07   \n",
       "6948      2010-11-23  ...                          NaN   1.500000e+05   \n",
       "6949      2012-03-08  ...                          NaN   2.173274e+07   \n",
       "6954      2010-01-31  ...  563 days 00:00:00.000000000   1.128732e+06   \n",
       "6956      2010-09-09  ...                          NaN   2.500000e+07   \n",
       "\n",
       "     avg_time_bw_rounds_float  time_bw_first_rounds_float  status_new  \\\n",
       "10                      380.0                         287           1   \n",
       "12                      565.0                        1093           1   \n",
       "13                        0.0                           0           1   \n",
       "19                      427.0                         427           0   \n",
       "22                        0.0                           0           1   \n",
       "...                       ...                         ...         ...   \n",
       "6945                    328.0                           6           1   \n",
       "6948                      0.0                           0           0   \n",
       "6949                      0.0                           0           0   \n",
       "6954                    563.0                        1106           0   \n",
       "6956                      0.0                           0           0   \n",
       "\n",
       "      investor_count     cat_new  Region cat region  \n",
       "10               4.0  healthcare   South   1      2  \n",
       "12               1.0  healthcare   South   1      2  \n",
       "13               1.0  healthcare   South   1      2  \n",
       "19               1.0     biotech   South   0      2  \n",
       "22               1.0  healthcare   South   1      2  \n",
       "...              ...         ...     ...  ..    ...  \n",
       "6945            10.0     biotech   South   0      2  \n",
       "6948             1.0     biotech   South   0      2  \n",
       "6949             2.0  healthcare   South   1      2  \n",
       "6954             2.0     biotech   South   0      2  \n",
       "6956             1.0     biotech   South   0      2  \n",
       "\n",
       "[1663 rows x 22 columns]"
      ]
     },
     "execution_count": 50,
     "metadata": {},
     "output_type": "execute_result"
    }
   ],
   "source": [
    "final_df[final_df['region']==2]"
   ]
  },
  {
   "cell_type": "markdown",
   "metadata": {},
   "source": [
    "## Modelling\n",
    "\n",
    "Splitting the data for the train test split"
   ]
  },
  {
   "cell_type": "code",
   "execution_count": 51,
   "metadata": {},
   "outputs": [],
   "source": [
    "X = final_df[['funding_total_usd', 'funding_rounds', 'time_bw_first_rounds_float','avg_raised_usd', 'avg_time_bw_rounds_float',\n",
    "              'investor_count','cat','region','homepage_url_new']]\n",
    "\n",
    "y = final_df[['status_new']]"
   ]
  },
  {
   "cell_type": "code",
   "execution_count": 52,
   "metadata": {},
   "outputs": [],
   "source": [
    "from sklearn.model_selection import train_test_split\n",
    "X_train, X_test, y_train, y_test = train_test_split(X,\n",
    "                                                    y,\n",
    "                                                    test_size=0.2,\n",
    "                                                    random_state=40,\n",
    "                                                    stratify=y)"
   ]
  },
  {
   "cell_type": "code",
   "execution_count": 53,
   "metadata": {},
   "outputs": [
    {
     "data": {
      "text/html": [
       "<div>\n",
       "<style scoped>\n",
       "    .dataframe tbody tr th:only-of-type {\n",
       "        vertical-align: middle;\n",
       "    }\n",
       "\n",
       "    .dataframe tbody tr th {\n",
       "        vertical-align: top;\n",
       "    }\n",
       "\n",
       "    .dataframe thead th {\n",
       "        text-align: right;\n",
       "    }\n",
       "</style>\n",
       "<table border=\"1\" class=\"dataframe\">\n",
       "  <thead>\n",
       "    <tr style=\"text-align: right;\">\n",
       "      <th></th>\n",
       "      <th>funding_total_usd</th>\n",
       "      <th>funding_rounds</th>\n",
       "      <th>time_bw_first_rounds_float</th>\n",
       "      <th>avg_raised_usd</th>\n",
       "      <th>avg_time_bw_rounds_float</th>\n",
       "      <th>investor_count</th>\n",
       "      <th>cat</th>\n",
       "      <th>region</th>\n",
       "      <th>homepage_url_new</th>\n",
       "    </tr>\n",
       "  </thead>\n",
       "  <tbody>\n",
       "    <tr>\n",
       "      <th>1034</th>\n",
       "      <td>40664199.0</td>\n",
       "      <td>7</td>\n",
       "      <td>961</td>\n",
       "      <td>5.809171e+06</td>\n",
       "      <td>293.0</td>\n",
       "      <td>9.0</td>\n",
       "      <td>0</td>\n",
       "      <td>1</td>\n",
       "      <td>1</td>\n",
       "    </tr>\n",
       "    <tr>\n",
       "      <th>5704</th>\n",
       "      <td>42027500.0</td>\n",
       "      <td>13</td>\n",
       "      <td>163</td>\n",
       "      <td>3.232885e+06</td>\n",
       "      <td>130.0</td>\n",
       "      <td>7.0</td>\n",
       "      <td>0</td>\n",
       "      <td>1</td>\n",
       "      <td>1</td>\n",
       "    </tr>\n",
       "    <tr>\n",
       "      <th>1752</th>\n",
       "      <td>2350479.0</td>\n",
       "      <td>1</td>\n",
       "      <td>0</td>\n",
       "      <td>2.350479e+06</td>\n",
       "      <td>0.0</td>\n",
       "      <td>1.0</td>\n",
       "      <td>0</td>\n",
       "      <td>1</td>\n",
       "      <td>0</td>\n",
       "    </tr>\n",
       "    <tr>\n",
       "      <th>976</th>\n",
       "      <td>13600000.0</td>\n",
       "      <td>3</td>\n",
       "      <td>1143</td>\n",
       "      <td>1.360000e+07</td>\n",
       "      <td>571.0</td>\n",
       "      <td>6.0</td>\n",
       "      <td>0</td>\n",
       "      <td>0</td>\n",
       "      <td>1</td>\n",
       "    </tr>\n",
       "    <tr>\n",
       "      <th>3010</th>\n",
       "      <td>28391902.0</td>\n",
       "      <td>5</td>\n",
       "      <td>852</td>\n",
       "      <td>7.097976e+06</td>\n",
       "      <td>848.0</td>\n",
       "      <td>5.0</td>\n",
       "      <td>0</td>\n",
       "      <td>2</td>\n",
       "      <td>1</td>\n",
       "    </tr>\n",
       "    <tr>\n",
       "      <th>...</th>\n",
       "      <td>...</td>\n",
       "      <td>...</td>\n",
       "      <td>...</td>\n",
       "      <td>...</td>\n",
       "      <td>...</td>\n",
       "      <td>...</td>\n",
       "      <td>...</td>\n",
       "      <td>...</td>\n",
       "      <td>...</td>\n",
       "    </tr>\n",
       "    <tr>\n",
       "      <th>5618</th>\n",
       "      <td>150000.0</td>\n",
       "      <td>1</td>\n",
       "      <td>0</td>\n",
       "      <td>1.500000e+05</td>\n",
       "      <td>0.0</td>\n",
       "      <td>1.0</td>\n",
       "      <td>0</td>\n",
       "      <td>1</td>\n",
       "      <td>0</td>\n",
       "    </tr>\n",
       "    <tr>\n",
       "      <th>5881</th>\n",
       "      <td>73000000.0</td>\n",
       "      <td>2</td>\n",
       "      <td>564</td>\n",
       "      <td>3.650000e+07</td>\n",
       "      <td>564.0</td>\n",
       "      <td>13.0</td>\n",
       "      <td>0</td>\n",
       "      <td>1</td>\n",
       "      <td>1</td>\n",
       "    </tr>\n",
       "    <tr>\n",
       "      <th>1109</th>\n",
       "      <td>71798.0</td>\n",
       "      <td>1</td>\n",
       "      <td>0</td>\n",
       "      <td>7.179800e+04</td>\n",
       "      <td>0.0</td>\n",
       "      <td>1.0</td>\n",
       "      <td>0</td>\n",
       "      <td>1</td>\n",
       "      <td>1</td>\n",
       "    </tr>\n",
       "    <tr>\n",
       "      <th>2391</th>\n",
       "      <td>5585000.0</td>\n",
       "      <td>5</td>\n",
       "      <td>350</td>\n",
       "      <td>1.117000e+06</td>\n",
       "      <td>197.0</td>\n",
       "      <td>1.0</td>\n",
       "      <td>0</td>\n",
       "      <td>3</td>\n",
       "      <td>1</td>\n",
       "    </tr>\n",
       "    <tr>\n",
       "      <th>2840</th>\n",
       "      <td>1800000.0</td>\n",
       "      <td>2</td>\n",
       "      <td>1247</td>\n",
       "      <td>9.000000e+05</td>\n",
       "      <td>1247.0</td>\n",
       "      <td>1.0</td>\n",
       "      <td>0</td>\n",
       "      <td>0</td>\n",
       "      <td>1</td>\n",
       "    </tr>\n",
       "  </tbody>\n",
       "</table>\n",
       "<p>2222 rows × 9 columns</p>\n",
       "</div>"
      ],
      "text/plain": [
       "      funding_total_usd  funding_rounds  time_bw_first_rounds_float  \\\n",
       "1034         40664199.0               7                         961   \n",
       "5704         42027500.0              13                         163   \n",
       "1752          2350479.0               1                           0   \n",
       "976          13600000.0               3                        1143   \n",
       "3010         28391902.0               5                         852   \n",
       "...                 ...             ...                         ...   \n",
       "5618           150000.0               1                           0   \n",
       "5881         73000000.0               2                         564   \n",
       "1109            71798.0               1                           0   \n",
       "2391          5585000.0               5                         350   \n",
       "2840          1800000.0               2                        1247   \n",
       "\n",
       "      avg_raised_usd  avg_time_bw_rounds_float  investor_count  cat  region  \\\n",
       "1034    5.809171e+06                     293.0             9.0    0       1   \n",
       "5704    3.232885e+06                     130.0             7.0    0       1   \n",
       "1752    2.350479e+06                       0.0             1.0    0       1   \n",
       "976     1.360000e+07                     571.0             6.0    0       0   \n",
       "3010    7.097976e+06                     848.0             5.0    0       2   \n",
       "...              ...                       ...             ...  ...     ...   \n",
       "5618    1.500000e+05                       0.0             1.0    0       1   \n",
       "5881    3.650000e+07                     564.0            13.0    0       1   \n",
       "1109    7.179800e+04                       0.0             1.0    0       1   \n",
       "2391    1.117000e+06                     197.0             1.0    0       3   \n",
       "2840    9.000000e+05                    1247.0             1.0    0       0   \n",
       "\n",
       "      homepage_url_new  \n",
       "1034                 1  \n",
       "5704                 1  \n",
       "1752                 0  \n",
       "976                  1  \n",
       "3010                 1  \n",
       "...                ...  \n",
       "5618                 0  \n",
       "5881                 1  \n",
       "1109                 1  \n",
       "2391                 1  \n",
       "2840                 1  \n",
       "\n",
       "[2222 rows x 9 columns]"
      ]
     },
     "execution_count": 53,
     "metadata": {},
     "output_type": "execute_result"
    }
   ],
   "source": [
    "X_train[X_train['cat']==0]"
   ]
  },
  {
   "cell_type": "markdown",
   "metadata": {},
   "source": [
    "### Standard Scaling\n",
    "\n",
    "Scaling the data in by using StandardScaler for only the X_train and X_test split as y_train and y_test has the values of 0 and 1"
   ]
  },
  {
   "cell_type": "code",
   "execution_count": 54,
   "metadata": {},
   "outputs": [],
   "source": [
    "from sklearn.preprocessing import StandardScaler\n",
    "scaler = StandardScaler()\n",
    "\n",
    "# Fit the scaler using the training data and scale it\n",
    "X_train_scaled = pd.DataFrame(scaler.fit_transform(X_train.values),\n",
    "                              columns=X.columns)\n",
    "\n",
    "# Scale the test data\n",
    "X_test_scaled = pd.DataFrame(scaler.transform(X_test.values),\n",
    "                             columns=X.columns)"
   ]
  },
  {
   "cell_type": "code",
   "execution_count": 55,
   "metadata": {},
   "outputs": [],
   "source": [
    "from sklearn.linear_model import LogisticRegression\n",
    "from sklearn import svm\n",
    "from sklearn.svm import SVC\n",
    "from sklearn.metrics import accuracy_score\n",
    "from xgboost import XGBClassifier"
   ]
  },
  {
   "cell_type": "markdown",
   "metadata": {},
   "source": [
    "### Accuracy Function\n",
    "\n",
    "This function calculates the test and train accuracy"
   ]
  },
  {
   "cell_type": "code",
   "execution_count": 56,
   "metadata": {},
   "outputs": [],
   "source": [
    "def pred_models_scaled(x_trn, y_trn, x_tst, y_tst):\n",
    "    logreg = LogisticRegression()\n",
    "    svm_model = svm.SVC()\n",
    "    xgb = XGBClassifier()\n",
    "    rf = RandomForestClassifier()\n",
    "    \n",
    "    l = logreg.fit(x_trn,y_trn)\n",
    "    s = svm_model.fit(x_trn,y_trn)\n",
    "    x = xgb.fit(x_trn,y_trn)\n",
    "    r = rf.fit(x_trn,y_trn)\n",
    "    \n",
    "    l_pred = l.predict(x_tst)\n",
    "    s_pred = s.predict(x_tst)\n",
    "    x_pred = x.predict(x_tst)\n",
    "    r_pred = r.predict(x_tst)\n",
    "    \n",
    "    \n",
    "    acc_scl= {'model':['logreg','svc','xgb','rf'], \n",
    "              'tst_scr':[accuracy_score(y_tst,l_pred),accuracy_score(y_tst,s_pred),accuracy_score(y_tst,x_pred),accuracy_score(y_tst,r_pred)],\n",
    "              'trn_acc':[accuracy_score(y_trn, l.predict(x_trn)),accuracy_score(y_trn, s.predict(x_trn)),accuracy_score(y_trn, x.predict(x_trn)),accuracy_score(y_trn, r.predict(x_trn))]}\n",
    "    acc_scl = pd.DataFrame(data= acc_scl)\n",
    "    \n",
    "    return acc_scl"
   ]
  },
  {
   "cell_type": "code",
   "execution_count": 57,
   "metadata": {},
   "outputs": [
    {
     "name": "stderr",
     "output_type": "stream",
     "text": [
      "F:\\Anaconda\\lib\\site-packages\\sklearn\\utils\\validation.py:73: DataConversionWarning: A column-vector y was passed when a 1d array was expected. Please change the shape of y to (n_samples, ), for example using ravel().\n",
      "  return f(**kwargs)\n",
      "F:\\Anaconda\\lib\\site-packages\\sklearn\\utils\\validation.py:73: DataConversionWarning: A column-vector y was passed when a 1d array was expected. Please change the shape of y to (n_samples, ), for example using ravel().\n",
      "  return f(**kwargs)\n",
      "<ipython-input-56-22b4a88822ad>:10: DataConversionWarning: A column-vector y was passed when a 1d array was expected. Please change the shape of y to (n_samples,), for example using ravel().\n",
      "  r = rf.fit(x_trn,y_trn)\n"
     ]
    },
    {
     "data": {
      "text/html": [
       "<div>\n",
       "<style scoped>\n",
       "    .dataframe tbody tr th:only-of-type {\n",
       "        vertical-align: middle;\n",
       "    }\n",
       "\n",
       "    .dataframe tbody tr th {\n",
       "        vertical-align: top;\n",
       "    }\n",
       "\n",
       "    .dataframe thead th {\n",
       "        text-align: right;\n",
       "    }\n",
       "</style>\n",
       "<table border=\"1\" class=\"dataframe\">\n",
       "  <thead>\n",
       "    <tr style=\"text-align: right;\">\n",
       "      <th></th>\n",
       "      <th>model</th>\n",
       "      <th>tst_scr</th>\n",
       "      <th>trn_acc</th>\n",
       "    </tr>\n",
       "  </thead>\n",
       "  <tbody>\n",
       "    <tr>\n",
       "      <th>0</th>\n",
       "      <td>logreg</td>\n",
       "      <td>0.686063</td>\n",
       "      <td>0.700916</td>\n",
       "    </tr>\n",
       "    <tr>\n",
       "      <th>1</th>\n",
       "      <td>svc</td>\n",
       "      <td>0.688937</td>\n",
       "      <td>0.704509</td>\n",
       "    </tr>\n",
       "    <tr>\n",
       "      <th>2</th>\n",
       "      <td>xgb</td>\n",
       "      <td>0.664511</td>\n",
       "      <td>0.829352</td>\n",
       "    </tr>\n",
       "    <tr>\n",
       "      <th>3</th>\n",
       "      <td>rf</td>\n",
       "      <td>0.688937</td>\n",
       "      <td>0.939644</td>\n",
       "    </tr>\n",
       "  </tbody>\n",
       "</table>\n",
       "</div>"
      ],
      "text/plain": [
       "    model   tst_scr   trn_acc\n",
       "0  logreg  0.686063  0.700916\n",
       "1     svc  0.688937  0.704509\n",
       "2     xgb  0.664511  0.829352\n",
       "3      rf  0.688937  0.939644"
      ]
     },
     "execution_count": 57,
     "metadata": {},
     "output_type": "execute_result"
    }
   ],
   "source": [
    "scl = pred_models_scaled(X_train_scaled,y_train,X_test_scaled,y_test)\n",
    "scl"
   ]
  },
  {
   "cell_type": "markdown",
   "metadata": {},
   "source": [
    "From the above dataframe we see that logistic regression, SVM classifier and XGBoost are models that we can consider and tune it. Random forest algorithm we cannot consider it, as the test accuracy should be more, as we have defined the model for the same. We will find out more paramters and choose the algorithm."
   ]
  },
  {
   "cell_type": "markdown",
   "metadata": {},
   "source": [
    "### ROC Curve function\n",
    "This function helps to find out the region under the curve."
   ]
  },
  {
   "cell_type": "code",
   "execution_count": 58,
   "metadata": {},
   "outputs": [],
   "source": [
    "def preds(x_trn, y_trn, x_tst, y_tst):\n",
    "    logreg = LogisticRegression()\n",
    "    svm_model = svm.SVC()\n",
    "    xgb = XGBClassifier()\n",
    "    rf = RandomForestClassifier()\n",
    "    \n",
    "    l = logreg.fit(x_trn,y_trn)\n",
    "    s = svm_model.fit(x_trn,y_trn)\n",
    "    x = xgb.fit(x_trn,y_trn)\n",
    "    r = rf.fit(x_trn,y_trn)\n",
    "    \n",
    "    l_pred = l.predict(x_tst)\n",
    "    s_pred = s.predict(x_tst)\n",
    "    x_pred = x.predict(x_tst)\n",
    "    r_pred = r.predict(x_tst)\n",
    "    \n",
    "    return l_pred,s_pred,x_pred,r_pred"
   ]
  },
  {
   "cell_type": "code",
   "execution_count": 59,
   "metadata": {},
   "outputs": [
    {
     "name": "stderr",
     "output_type": "stream",
     "text": [
      "F:\\Anaconda\\lib\\site-packages\\sklearn\\utils\\validation.py:73: DataConversionWarning: A column-vector y was passed when a 1d array was expected. Please change the shape of y to (n_samples, ), for example using ravel().\n",
      "  return f(**kwargs)\n",
      "F:\\Anaconda\\lib\\site-packages\\sklearn\\utils\\validation.py:73: DataConversionWarning: A column-vector y was passed when a 1d array was expected. Please change the shape of y to (n_samples, ), for example using ravel().\n",
      "  return f(**kwargs)\n",
      "<ipython-input-58-05cac56e9606>:10: DataConversionWarning: A column-vector y was passed when a 1d array was expected. Please change the shape of y to (n_samples,), for example using ravel().\n",
      "  r = rf.fit(x_trn,y_trn)\n"
     ]
    }
   ],
   "source": [
    "l_pred,s_pred,x_pred,r_pred = preds(X_train_scaled,y_train,X_test_scaled,y_test)"
   ]
  },
  {
   "cell_type": "code",
   "execution_count": 60,
   "metadata": {},
   "outputs": [],
   "source": [
    "from sklearn.metrics import roc_curve, roc_auc_score\n",
    "from sklearn import metrics\n",
    "\n",
    "fpr_l, tpr_l, thresh_l = metrics.roc_curve(y_test.status_new,l_pred)\n",
    "auc_l = metrics.roc_auc_score(y_test.status_new,l_pred)\n",
    "\n",
    "fpr_s, tpr_s, thresh_s = metrics.roc_curve(y_test.status_new,s_pred)\n",
    "auc_s = metrics.roc_auc_score(y_test.status_new,s_pred)\n",
    "\n",
    "fpr_x, tpr_x, thresh_x = metrics.roc_curve(y_test.status_new,x_pred)\n",
    "auc_x = metrics.roc_auc_score(y_test.status_new,x_pred)\n",
    "\n",
    "fpr_r, tpr_r, thresh_r = metrics.roc_curve(y_test.status_new,r_pred)\n",
    "auc_r = metrics.roc_auc_score(y_test.status_new,r_pred)"
   ]
  },
  {
   "cell_type": "code",
   "execution_count": 61,
   "metadata": {},
   "outputs": [
    {
     "data": {
      "text/plain": [
       "<matplotlib.legend.Legend at 0x234ac7ed90>"
      ]
     },
     "execution_count": 61,
     "metadata": {},
     "output_type": "execute_result"
    },
    {
     "data": {
      "image/png": "[encoded data removed]",
      "text/plain": [
       "<Figure size 864x576 with 1 Axes>"
      ]
     },
     "metadata": {
      "needs_background": "light"
     },
     "output_type": "display_data"
    }
   ],
   "source": [
    "#roc curve\n",
    "import matplotlib.pyplot as plt\n",
    "plt.figure(figsize=(12,8))\n",
    "plt.plot(fpr_l,tpr_l,label=\"logreg, auc=\"+str(auc_l))\n",
    "plt.plot(fpr_s,tpr_s,label=\"SVC, auc=\"+str(auc_s))\n",
    "plt.plot(fpr_x,tpr_x,label=\"XGB, auc=\"+str(auc_x))\n",
    "plt.plot(fpr_r,tpr_r,label=\"RF, auc=\"+str(auc_r))\n",
    "plt.plot([0,1], [0,1], color='red', linestyle='--')\n",
    "plt.xlabel(\"Flase Positive Rate\")\n",
    "plt.ylabel(\"True Positive Rate\")\n",
    "plt.title('ROC Curve Analysis')\n",
    "plt.legend(prop={'size':13}, loc='lower right')"
   ]
  },
  {
   "cell_type": "markdown",
   "metadata": {},
   "source": [
    "From above the AUC we get maximum for random forest."
   ]
  },
  {
   "cell_type": "markdown",
   "metadata": {},
   "source": [
    "### Fbeta Score\n",
    "\n",
    "The F-beta score weights recall more than precision by a factor of beta,\n",
    "\n",
    "Weigh recall more heavily than precision because in the case of venture capital investments, it is worse to miss out on a potential unicorn investment (10-100X return) (type II error - false negative) than to invest in a dud (1X loss) (type 1 error - false positive), however we won't place all weight on recall as it is still valuable for a VC firm to distinguish itself by reducing the amount of \"duds\" it invests in.\n",
    "\n",
    "If viewing from the prospective of a founder, they would prioritize precision since starting a company requires a lot of time and effort, they want to really improve the likelihood of starting a successful company."
   ]
  },
  {
   "cell_type": "code",
   "execution_count": 62,
   "metadata": {},
   "outputs": [],
   "source": [
    "from sklearn.metrics import fbeta_score\n",
    "\n",
    "def fbeta_scaled(x_trn, y_trn, x_tst, y_tst):\n",
    "    logreg = LogisticRegression()\n",
    "    svm_model = svm.SVC()\n",
    "    xgb = XGBClassifier()\n",
    "    rf = RandomForestClassifier()\n",
    "    \n",
    "    l = logreg.fit(x_trn,y_trn)\n",
    "    s = svm_model.fit(x_trn,y_trn)\n",
    "    x = xgb.fit(x_trn,y_trn)\n",
    "    r = rf.fit(x_trn,y_trn)\n",
    "    \n",
    "    l_pred = l.predict(x_tst)\n",
    "    s_pred = s.predict(x_tst)\n",
    "    x_pred = x.predict(x_tst)\n",
    "    r_pred = r.predict(x_tst)\n",
    "    \n",
    "    l_fbeta = fbeta_score(y_tst,l_pred,3)\n",
    "    s_fbeta = fbeta_score(y_tst,s_pred,3)\n",
    "    x_fbeta = fbeta_score(y_tst,x_pred,3)\n",
    "    r_fbeta = fbeta_score(y_tst,r_pred,3)\n",
    "    \n",
    "    fb_scl= {'model':['logreg','svc','xgb','rf'], \n",
    "              'fb_scr':[l_fbeta,s_fbeta,x_fbeta,r_fbeta]}\n",
    "    fb_scl = pd.DataFrame(data= fb_scl)\n",
    "    \n",
    "    return fb_scl"
   ]
  },
  {
   "cell_type": "code",
   "execution_count": 63,
   "metadata": {},
   "outputs": [
    {
     "name": "stderr",
     "output_type": "stream",
     "text": [
      "F:\\Anaconda\\lib\\site-packages\\sklearn\\utils\\validation.py:73: DataConversionWarning: A column-vector y was passed when a 1d array was expected. Please change the shape of y to (n_samples, ), for example using ravel().\n",
      "  return f(**kwargs)\n",
      "F:\\Anaconda\\lib\\site-packages\\sklearn\\utils\\validation.py:73: DataConversionWarning: A column-vector y was passed when a 1d array was expected. Please change the shape of y to (n_samples, ), for example using ravel().\n",
      "  return f(**kwargs)\n",
      "<ipython-input-62-12d648d40d02>:12: DataConversionWarning: A column-vector y was passed when a 1d array was expected. Please change the shape of y to (n_samples,), for example using ravel().\n",
      "  r = rf.fit(x_trn,y_trn)\n",
      "F:\\Anaconda\\lib\\site-packages\\sklearn\\utils\\validation.py:68: FutureWarning: Pass beta=3 as keyword args. From version 0.25 passing these as positional arguments will result in an error\n",
      "  warnings.warn(\"Pass {} as keyword args. From version 0.25 \"\n"
     ]
    },
    {
     "data": {
      "text/html": [
       "<div>\n",
       "<style scoped>\n",
       "    .dataframe tbody tr th:only-of-type {\n",
       "        vertical-align: middle;\n",
       "    }\n",
       "\n",
       "    .dataframe tbody tr th {\n",
       "        vertical-align: top;\n",
       "    }\n",
       "\n",
       "    .dataframe thead th {\n",
       "        text-align: right;\n",
       "    }\n",
       "</style>\n",
       "<table border=\"1\" class=\"dataframe\">\n",
       "  <thead>\n",
       "    <tr style=\"text-align: right;\">\n",
       "      <th></th>\n",
       "      <th>model</th>\n",
       "      <th>fb_scr</th>\n",
       "    </tr>\n",
       "  </thead>\n",
       "  <tbody>\n",
       "    <tr>\n",
       "      <th>0</th>\n",
       "      <td>logreg</td>\n",
       "      <td>0.855977</td>\n",
       "    </tr>\n",
       "    <tr>\n",
       "      <th>1</th>\n",
       "      <td>svc</td>\n",
       "      <td>0.860792</td>\n",
       "    </tr>\n",
       "    <tr>\n",
       "      <th>2</th>\n",
       "      <td>xgb</td>\n",
       "      <td>0.792875</td>\n",
       "    </tr>\n",
       "    <tr>\n",
       "      <th>3</th>\n",
       "      <td>rf</td>\n",
       "      <td>0.819868</td>\n",
       "    </tr>\n",
       "  </tbody>\n",
       "</table>\n",
       "</div>"
      ],
      "text/plain": [
       "    model    fb_scr\n",
       "0  logreg  0.855977\n",
       "1     svc  0.860792\n",
       "2     xgb  0.792875\n",
       "3      rf  0.819868"
      ]
     },
     "execution_count": 63,
     "metadata": {},
     "output_type": "execute_result"
    }
   ],
   "source": [
    "fbeta_scaled(X_train_scaled,y_train,X_test_scaled,y_test)"
   ]
  },
  {
   "cell_type": "markdown",
   "metadata": {},
   "source": [
    "Considering all the three factors, accuracy, AUC and f-beta score, we decided to hypertune XGBoost and Logistic regresion algorithms."
   ]
  },
  {
   "cell_type": "markdown",
   "metadata": {},
   "source": [
    "#### Tunning XGBoost"
   ]
  },
  {
   "cell_type": "code",
   "execution_count": 64,
   "metadata": {},
   "outputs": [
    {
     "name": "stderr",
     "output_type": "stream",
     "text": [
      "F:\\Anaconda\\lib\\site-packages\\sklearn\\utils\\validation.py:73: DataConversionWarning: A column-vector y was passed when a 1d array was expected. Please change the shape of y to (n_samples, ), for example using ravel().\n",
      "  return f(**kwargs)\n"
     ]
    },
    {
     "name": "stdout",
     "output_type": "stream",
     "text": [
      "[19:33:59] WARNING: C:\\Users\\Administrator\\workspace\\xgboost-win64_release_1.2.0\\src\\learner.cc:516: \n",
      "Parameters: { silent } might not be used.\n",
      "\n",
      "  This may not be accurate due to some parameters are only used in language bindings but\n",
      "  passed down to XGBoost core.  Or some parameters are not used but slip through this\n",
      "  verification. Please open an issue if you find above cases.\n",
      "\n",
      "\n",
      "Test acc: 0.6853448275862069 and Train acc: 0.7025327824681157\n"
     ]
    }
   ],
   "source": [
    "model_xgb = XGBClassifier(silent=False, \n",
    "                      scale_pos_weight=1,\n",
    "                      learning_rate=0.01,  \n",
    "                      colsample_bytree = 0.4,\n",
    "                      subsample = 0.8,\n",
    "                      objective='binary:logistic', \n",
    "                      n_estimators=1000, \n",
    "                      reg_alpha = 0.3,\n",
    "                      max_depth=10, \n",
    "                      gamma=10)\n",
    "\n",
    "x = model_xgb.fit(X_train_scaled,y_train)\n",
    "x_pred = x.predict(X_test_scaled)\n",
    "\n",
    "test_acc = accuracy_score(y_test,x_pred)\n",
    "train_acc = accuracy_score(y_train, model_xgb.predict(X_train_scaled))\n",
    "           \n",
    "print('Test acc: {} and Train acc: {}'.format(test_acc, train_acc))"
   ]
  },
  {
   "cell_type": "code",
   "execution_count": 65,
   "metadata": {},
   "outputs": [
    {
     "data": {
      "text/plain": [
       "0.5880899183803748"
      ]
     },
     "execution_count": 65,
     "metadata": {},
     "output_type": "execute_result"
    }
   ],
   "source": [
    "auc_x = metrics.roc_auc_score(y_test.status_new,x_pred)\n",
    "auc_x"
   ]
  },
  {
   "cell_type": "markdown",
   "metadata": {},
   "source": [
    "#### Tunning Logitstic Regression"
   ]
  },
  {
   "cell_type": "code",
   "execution_count": 66,
   "metadata": {},
   "outputs": [
    {
     "name": "stderr",
     "output_type": "stream",
     "text": [
      "F:\\Anaconda\\lib\\site-packages\\sklearn\\utils\\validation.py:73: DataConversionWarning: A column-vector y was passed when a 1d array was expected. Please change the shape of y to (n_samples, ), for example using ravel().\n",
      "  return f(**kwargs)\n",
      "F:\\Anaconda\\lib\\site-packages\\sklearn\\linear_model\\_sag.py:329: ConvergenceWarning: The max_iter was reached which means the coef_ did not converge\n",
      "  warnings.warn(\"The max_iter was reached which means \"\n"
     ]
    }
   ],
   "source": [
    "lr_reg = LogisticRegression(solver='saga',\n",
    "                            C=0.1)\n",
    "\n",
    "l = lr_reg.fit(X_train_scaled, y_train)\n",
    "l_pred = l.predict(X_test_scaled)"
   ]
  },
  {
   "cell_type": "code",
   "execution_count": 67,
   "metadata": {},
   "outputs": [
    {
     "data": {
      "text/plain": [
       "0.6023619533992978"
      ]
     },
     "execution_count": 67,
     "metadata": {},
     "output_type": "execute_result"
    }
   ],
   "source": [
    "auc_x = metrics.roc_auc_score(y_test.status_new,l_pred)\n",
    "auc_x"
   ]
  },
  {
   "cell_type": "code",
   "execution_count": 68,
   "metadata": {},
   "outputs": [
    {
     "name": "stdout",
     "output_type": "stream",
     "text": [
      "Test acc: 0.6867816091954023 and Train acc: 0.7007364828453386\n"
     ]
    }
   ],
   "source": [
    "test_acc = accuracy_score(y_test,l_pred)\n",
    "train_acc = accuracy_score(y_train, l.predict(X_train_scaled))\n",
    "           \n",
    "print('Test acc: {} and Train acc: {}'.format(test_acc, train_acc))"
   ]
  },
  {
   "cell_type": "markdown",
   "metadata": {},
   "source": [
    "From the accuracies and area under the curve outputs we decided to go with the Logistic regression."
   ]
  },
  {
   "cell_type": "code",
   "execution_count": 69,
   "metadata": {},
   "outputs": [
    {
     "data": {
      "text/html": [
       "<div>\n",
       "<style scoped>\n",
       "    .dataframe tbody tr th:only-of-type {\n",
       "        vertical-align: middle;\n",
       "    }\n",
       "\n",
       "    .dataframe tbody tr th {\n",
       "        vertical-align: top;\n",
       "    }\n",
       "\n",
       "    .dataframe thead th {\n",
       "        text-align: right;\n",
       "    }\n",
       "</style>\n",
       "<table border=\"1\" class=\"dataframe\">\n",
       "  <thead>\n",
       "    <tr style=\"text-align: right;\">\n",
       "      <th></th>\n",
       "      <th>Feature</th>\n",
       "      <th>Coefficient</th>\n",
       "    </tr>\n",
       "  </thead>\n",
       "  <tbody>\n",
       "    <tr>\n",
       "      <th>0</th>\n",
       "      <td>funding_rounds</td>\n",
       "      <td>0.500462</td>\n",
       "    </tr>\n",
       "    <tr>\n",
       "      <th>1</th>\n",
       "      <td>cat</td>\n",
       "      <td>0.495973</td>\n",
       "    </tr>\n",
       "    <tr>\n",
       "      <th>2</th>\n",
       "      <td>avg_time_bw_rounds_float</td>\n",
       "      <td>0.342154</td>\n",
       "    </tr>\n",
       "    <tr>\n",
       "      <th>3</th>\n",
       "      <td>investor_count</td>\n",
       "      <td>0.266238</td>\n",
       "    </tr>\n",
       "    <tr>\n",
       "      <th>4</th>\n",
       "      <td>homepage_url_new</td>\n",
       "      <td>0.215222</td>\n",
       "    </tr>\n",
       "    <tr>\n",
       "      <th>5</th>\n",
       "      <td>funding_total_usd</td>\n",
       "      <td>0.159243</td>\n",
       "    </tr>\n",
       "    <tr>\n",
       "      <th>6</th>\n",
       "      <td>avg_raised_usd</td>\n",
       "      <td>0.136584</td>\n",
       "    </tr>\n",
       "    <tr>\n",
       "      <th>7</th>\n",
       "      <td>region</td>\n",
       "      <td>-0.028571</td>\n",
       "    </tr>\n",
       "    <tr>\n",
       "      <th>8</th>\n",
       "      <td>time_bw_first_rounds_float</td>\n",
       "      <td>-0.076385</td>\n",
       "    </tr>\n",
       "  </tbody>\n",
       "</table>\n",
       "</div>"
      ],
      "text/plain": [
       "                      Feature  Coefficient\n",
       "0              funding_rounds     0.500462\n",
       "1                         cat     0.495973\n",
       "2    avg_time_bw_rounds_float     0.342154\n",
       "3              investor_count     0.266238\n",
       "4            homepage_url_new     0.215222\n",
       "5           funding_total_usd     0.159243\n",
       "6              avg_raised_usd     0.136584\n",
       "7                      region    -0.028571\n",
       "8  time_bw_first_rounds_float    -0.076385"
      ]
     },
     "execution_count": 69,
     "metadata": {},
     "output_type": "execute_result"
    }
   ],
   "source": [
    "# Look at coefficients\n",
    "lr_reg_coefs = pd.DataFrame(sorted(list(zip(X.columns, lr_reg.coef_[0])),\n",
    "                                   key=(lambda x: x[1]),\n",
    "                                   reverse=True),\n",
    "                            columns=['Feature', 'Coefficient'])\n",
    "lr_reg_coefs"
   ]
  },
  {
   "cell_type": "code",
   "execution_count": 70,
   "metadata": {},
   "outputs": [],
   "source": [
    "lr_reg_coefs.to_csv('log_coeff.csv')"
   ]
  },
  {
   "cell_type": "code",
   "execution_count": 71,
   "metadata": {},
   "outputs": [
    {
     "data": {
      "text/plain": [
       "0.7931287297950361"
      ]
     },
     "execution_count": 71,
     "metadata": {},
     "output_type": "execute_result"
    }
   ],
   "source": [
    "\n",
    "# Intercept\n",
    "lr_reg.intercept_[0]"
   ]
  },
  {
   "cell_type": "code",
   "execution_count": 72,
   "metadata": {},
   "outputs": [
    {
     "name": "stdout",
     "output_type": "stream",
     "text": [
      "All else considered, companies that make it past their first funding round, probability of success is 68.85%\n"
     ]
    }
   ],
   "source": [
    "# convert intercept log-odds to probability\n",
    "logodds = lr_reg.intercept_[0]\n",
    "odds = np.exp(logodds)\n",
    "prob = odds / (1 + odds)\n",
    "# prob[0]\n",
    "print('All else considered, companies that make it past their first funding round, probability of success is {:.2f}%'.format(100 * prob))"
   ]
  },
  {
   "cell_type": "markdown",
   "metadata": {},
   "source": [
    "## Saving the pickel file\n",
    "\n",
    "We created a pickle file for both the model and the standard scaler as we will be needing it in the flask application."
   ]
  },
  {
   "cell_type": "code",
   "execution_count": 73,
   "metadata": {},
   "outputs": [],
   "source": [
    "import pickle as pickle"
   ]
  },
  {
   "cell_type": "code",
   "execution_count": 74,
   "metadata": {},
   "outputs": [],
   "source": [
    "import pickle\n",
    "with open(\"scaler_sel.pkl\", \"wb\") as f:\n",
    "    pickle.dump(scaler, f)"
   ]
  },
  {
   "cell_type": "code",
   "execution_count": 75,
   "metadata": {},
   "outputs": [],
   "source": [
    "import pickle\n",
    "with open(\"lr_reg.pkl\", \"wb\") as f:\n",
    "    pickle.dump(lr_reg, f)"
   ]
  },
  {
   "cell_type": "code",
   "execution_count": null,
   "metadata": {},
   "outputs": [],
   "source": []
  },
  {
   "cell_type": "code",
   "execution_count": null,
   "metadata": {},
   "outputs": [],
   "source": []
  }
 ],
 "metadata": {
  "kernelspec": {
   "display_name": "Python 3",
   "language": "python",
   "name": "python3"
  },
  "language_info": {
   "codemirror_mode": {
    "name": "ipython",
    "version": 3
   },
   "file_extension": ".py",
   "mimetype": "text/x-python",
   "name": "python",
   "nbconvert_exporter": "python",
   "pygments_lexer": "ipython3",
   "version": "3.8.3"
  }
 },
 "nbformat": 4,
 "nbformat_minor": 2
}
